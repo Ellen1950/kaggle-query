{
 "cells": [
  {
   "cell_type": "code",
   "execution_count": 68,
   "metadata": {},
   "outputs": [],
   "source": [
    "import os\n",
    "import random\n",
    "from kaggle.api.kaggle_api_extended import KaggleApi"
   ]
  },
  {
   "cell_type": "code",
   "execution_count": 67,
   "metadata": {},
   "outputs": [],
   "source": [
    "def get_kaggle_dataset():\n",
    "    \"\"\"pick a random dataset from kaggle - DO NOT Download data yet\"\"\"\n",
    "    # connect to kaggle\n",
    "    api = KaggleApi()\n",
    "    api.authenticate()\n",
    "    "
   ]
  },
  {
   "cell_type": "code",
   "execution_count": 26,
   "metadata": {},
   "outputs": [],
   "source": [
    "datasets = api.dataset_list()\n"
   ]
  },
  {
   "cell_type": "code",
   "execution_count": 27,
   "metadata": {},
   "outputs": [],
   "source": [
    "dataset = random.choice(datasets)"
   ]
  },
  {
   "cell_type": "code",
   "execution_count": 66,
   "metadata": {},
   "outputs": [
    {
     "name": "stdout",
     "output_type": "stream",
     "text": [
      "selected dataset:Data Science Salaries 2024\n",
      "Description: Data Science Job Postings and Salaries 2020-2024 Dataset\n"
     ]
    }
   ],
   "source": [
    "    print(f\"selected dataset:{dataset.title}\")\n",
    "    print(f\"Description: {dataset.subtitle}\")\n",
    "    \n",
    "   "
   ]
  },
  {
   "cell_type": "code",
   "execution_count": 65,
   "metadata": {},
   "outputs": [],
   "source": [
    "testdata = get_kaggle_dataset()"
   ]
  },
  {
   "cell_type": "code",
   "execution_count": 70,
   "metadata": {},
   "outputs": [
    {
     "name": "stdout",
     "output_type": "stream",
     "text": [
      "Authenticated successfully!\n",
      "An error occurred: (401)\n",
      "Reason: Unauthorized\n",
      "HTTP response headers: HTTPHeaderDict({'Content-Type': 'application/json', 'Date': 'Wed, 30 Oct 2024 17:30:04 GMT', 'Access-Control-Allow-Credentials': 'true', 'Access-Control-Allow-Origin': '*', 'Set-Cookie': 'ka_sessionid=1622b31791493ab5e0a9958c2016fae9; max-age=2626560; path=/, GCLB=CNyRlvGTzLXxWRAD; path=/; HttpOnly', 'Vary': 'Accept-Encoding', 'X-Kaggle-MillisecondsElapsed': '2', 'X-Kaggle-RequestId': '0f9fa7ea6404b83c6d5cf6716fbec795', 'X-Kaggle-ApiVersion': '1.6.17', 'X-Kaggle-HubVersion': '0.3.3', 'X-Frame-Options': 'SAMEORIGIN', 'Strict-Transport-Security': 'max-age=63072000; includeSubDomains; preload', 'Content-Security-Policy': \"object-src 'none'; script-src 'nonce-qBhN/MymEg1vJugjs3+UMg==' 'report-sample' 'unsafe-inline' 'unsafe-eval' 'strict-dynamic' https: http:; base-uri 'none'; report-uri https://csp.withgoogle.com/csp/kaggle/20201130; frame-src 'self' https://www.kaggleusercontent.com https://www.youtube.com/embed/ https://polygraph-cool.github.io https://www.google.com/recaptcha/ https://www.docdroid.com https://www.docdroid.net https://kaggle-static.storage.googleapis.com https://kkb-production.jupyter-proxy.kaggle.net https://kkb-production.firebaseapp.com https://kaggle-metastore.firebaseapp.com https://apis.google.com https://content-sheets.googleapis.com/ https://accounts.google.com/ https://storage.googleapis.com https://docs.google.com https://drive.google.com https://calendar.google.com/ ;\", 'X-Content-Type-Options': 'nosniff', 'Referrer-Policy': 'strict-origin-when-cross-origin', 'Via': '1.1 google', 'Alt-Svc': 'h3=\":443\"; ma=2592000,h3-29=\":443\"; ma=2592000', 'Transfer-Encoding': 'chunked'})\n",
      "HTTP response body: {\"code\":401,\"message\":\"Unauthenticated\"}\n",
      "\n"
     ]
    }
   ],
   "source": [
    "from kaggle.api.kaggle_api_extended import KaggleApi\n",
    "\n",
    "# Initialize and authenticate\n",
    "api = KaggleApi()\n",
    "\n",
    "try:\n",
    "    api.authenticate()\n",
    "    print(\"Authenticated successfully!\")\n",
    "\n",
    "    # List datasets\n",
    "    datasets = api.dataset_list()\n",
    "    print(f\"Total Datasets: {len(datasets)}\")\n",
    "    for dataset in datasets[:5]:  # Just listing the first five datasets\n",
    "        print(dataset.ref)\n",
    "except Exception as e:\n",
    "    print(f\"An error occurred: {e}\")\n"
   ]
  },
  {
   "cell_type": "code",
   "execution_count": 77,
   "metadata": {},
   "outputs": [],
   "source": [
    "download_path = './data/'\n"
   ]
  },
  {
   "cell_type": "code",
   "execution_count": 78,
   "metadata": {},
   "outputs": [],
   "source": [
    "import os\n",
    "\n",
    "# Create the directory if it doesn't exist\n",
    "os.makedirs(download_path, exist_ok=True)\n"
   ]
  },
  {
   "cell_type": "code",
   "execution_count": 82,
   "metadata": {},
   "outputs": [],
   "source": [
    "# Get the dataset reference name\n",
    "dataset_name = dataset.ref  # This gives you the dataset identifier\n"
   ]
  },
  {
   "cell_type": "code",
   "execution_count": 83,
   "metadata": {},
   "outputs": [
    {
     "name": "stdout",
     "output_type": "stream",
     "text": [
      "Dataset URL: https://www.kaggle.com/datasets/yusufdelikkaya/datascience-salaries-2024\n",
      "Downloaded dataset: yusufdelikkaya/datascience-salaries-2024 to ./data/\n"
     ]
    }
   ],
   "source": [
    "api.dataset_download_files(dataset_name, path=download_path, unzip=True)\n",
    "\n",
    "print(f\"Downloaded dataset: {dataset_name} to {download_path}\")\n"
   ]
  },
  {
   "cell_type": "code",
   "execution_count": 84,
   "metadata": {},
   "outputs": [
    {
     "name": "stdout",
     "output_type": "stream",
     "text": [
      "Dataset URL: https://www.kaggle.com/datasets/yusufdelikkaya/datascience-salaries-2024\n"
     ]
    }
   ],
   "source": [
    "api.dataset_download_files(dataset.ref, path=download_path,unzip = True)"
   ]
  },
  {
   "cell_type": "code",
   "execution_count": null,
   "metadata": {},
   "outputs": [],
   "source": [
    "#It's a good start from just an idea to make a dataset from kaggle somewhat easier\n",
    "# Right now all it does is pick a dataset randomly\n",
    "# But I may want to take this further"
   ]
  }
 ],
 "metadata": {
  "kernelspec": {
   "display_name": "venv",
   "language": "python",
   "name": "venv"
  },
  "language_info": {
   "codemirror_mode": {
    "name": "ipython",
    "version": 3
   },
   "file_extension": ".py",
   "mimetype": "text/x-python",
   "name": "python",
   "nbconvert_exporter": "python",
   "pygments_lexer": "ipython3",
   "version": "3.13.0"
  }
 },
 "nbformat": 4,
 "nbformat_minor": 2
}
